{
 "cells": [
  {
   "cell_type": "markdown",
   "id": "7a3695aa",
   "metadata": {},
   "source": [
    "EOSC 562 - Advanced Volcanology Final Project\n",
    "Francis Rossmann\n",
    "\n",
    "# Introduction\n",
    "## Subglacial volcanism\n",
    "### On Earth\n",
    "### On Mars\n",
    "## Sisyphi Montes\n",
    "### Geography & Geology\n",
    "### Glacial history\n",
    "The ages of pedestal craters on Mars: Evidence for a late-Amazonian extended period of episodic emplacement of decameters-thick mid-latitude ice deposits\n",
    "### Candidate subglacial volcanoes\n",
    "## Research Question, Aim and Objective\n",
    "## Outline\n",
    "\n",
    "# Morphometry of subglacial landforms\n",
    "## Tuyas: a descriptive genetic classification\n",
    "## Systematic morphometric characterization of volcanic edifices using digital elevation models\n",
    "## Morphometry of glaciovolcanic edifices from Iceland: Types and evolution\n",
    "\n",
    "# Glaciovolcanism in Sisyphi Montes  \n",
    "## Candidate subglacial volcanoes in the south polar region of Mars: Morphology, morphometry, and eruption conditions\n",
    "## Mineralogic evidence for subglacial volcanism in the Sisyphi Montes region of Mars\n",
    "## Effects of Deglaciation on Glaciovolcanism on Mars\n",
    " \n",
    "\n",
    "# Discussion\n",
    "\n",
    "# Conclusion\n",
    "\n",
    "# References"
   ]
  },
  {
   "cell_type": "code",
   "execution_count": null,
   "id": "6efd38d4",
   "metadata": {},
   "outputs": [],
   "source": []
  }
 ],
 "metadata": {
  "kernelspec": {
   "display_name": "Python 3 (ipykernel)",
   "language": "python",
   "name": "python3"
  },
  "language_info": {
   "codemirror_mode": {
    "name": "ipython",
    "version": 3
   },
   "file_extension": ".py",
   "mimetype": "text/x-python",
   "name": "python",
   "nbconvert_exporter": "python",
   "pygments_lexer": "ipython3",
   "version": "3.7.10"
  }
 },
 "nbformat": 4,
 "nbformat_minor": 5
}
